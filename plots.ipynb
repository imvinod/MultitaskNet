{
 "cells": [
  {
   "cell_type": "code",
   "execution_count": 1,
   "metadata": {},
   "outputs": [],
   "source": [
    "import os\n",
    "import numpy as np\n",
    "import matplotlib.pyplot as plt\n",
    "import torch\n",
    "from utils.data_utils import get_data\n",
    "\n",
    "# set default size of plots\n",
    "%matplotlib inline\n",
    "plt.rcParams['figure.figsize'] = (10.0, 8.0) \n",
    "\n",
    "# for auto-reloading external modules\n",
    "%load_ext autoreload\n",
    "%autoreload 2"
   ]
  },
  {
   "cell_type": "markdown",
   "metadata": {},
   "source": [
    "\n",
    "## Plot the loss, training and validation accuracy \n",
    "\n",
    "During training sessions, training and validation accuracy is saved for the whole sets at the end of each epoch. Accuracy calculation is done globally, i.e. for semantic segmentation, global_accuracy = correctly_labelled_pixels / all_labelled_pixels, and for scene classification; global_accuracy = correctly_classified_scenes / all_scenes."
   ]
  },
  {
   "cell_type": "code",
   "execution_count": 2,
   "metadata": {},
   "outputs": [
    {
     "name": "stdout",
     "output_type": "stream",
     "text": [
      "[INFO] Checkpoint loaded: ./checkpoints/experiment/sun/best_model.pth.tarh.tar   \n",
      "[83.8296808013916, 61.55135514177595, 59.26014118739537, 58.947748376028876, 58.77879702104841, 58.55320642852783, 58.38754701777867, 58.24681435939244, 58.11564976501465, 57.981635540553505, 57.81984236254011, 57.71530049133301, 57.58932013157436, 57.508271859305246, 57.42627718353271, 57.34756223188128, 57.232557935442244, 57.15228385053362, 57.12284436907087, 57.02225996943883, 56.89986681038993, 56.841971257890975, 56.784975449698315, 56.69366856384277, 56.69739948599679, 56.6009999193464, 56.57493826729911, 56.488128093174524, 56.43110441480364, 56.427412055969235, 56.33290676334926, 56.28249858420236, 56.284385030473985, 56.25124656677246, 55.941241436549596, 55.87923394121442, 55.86754246412005, 55.87161551448277, 55.80156185041155, 55.759421358381, 55.760163390023365, 55.80455338178362, 55.75788427952358, 55.75637586757115, 55.697305242265976, 55.77075848824637, 55.7634650780814, 55.729176403590614, 55.661207976205006, 55.73298767743792]\n"
     ]
    },
    {
     "data": {
      "image/png": "[encoded data removed]",
      "text/plain": [
       "<Figure size 432x288 with 1 Axes>"
      ]
     },
     "metadata": {
      "needs_background": "light"
     },
     "output_type": "display_data"
    },
    {
     "name": "stdout",
     "output_type": "stream",
     "text": [
      "Minimum loss values achieved during training:\n",
      "Global: 235.769 at epoch: 49\n"
     ]
    },
    {
     "data": {
      "image/png": "[encoded data removed]",
      "text/plain": [
       "<Figure size 432x288 with 1 Axes>"
      ]
     },
     "metadata": {
      "needs_background": "light"
     },
     "output_type": "display_data"
    },
    {
     "name": "stdout",
     "output_type": "stream",
     "text": [
      "Best accuracy values achieved during training (on validation set):\n",
      "Global pixel-wise classification: 0.615 achieved on epoch: 47\n"
     ]
    }
   ],
   "source": [
    "# while True:\n",
    "#     data = input('[INPUT] Enter checkpoint path please: ')\n",
    "#     model_path = data\n",
    "#     break\n",
    "model_path = \"./checkpoints/experiment/sun/best_model.pth.tar\"\n",
    "# model_path = \"./checkpoints/experiment/sun/model_checkpoint_10_22112019.pth.tar\"\n",
    "if os.path.isfile(model_path):\n",
    "    print('[PROGRESS] Loading checkpoint: {}   '.format(model_path), end='', flush=True)\n",
    "    checkpoint = torch.load(model_path)\n",
    "    print('\\r[INFO] Checkpoint loaded: {}'.format(model_path))\n",
    "    \n",
    "    use_class = model_path.lower().find('class') is not -1\n",
    "    loss_plot_num = 1\n",
    "    \n",
    "    trained_epoch = checkpoint['epoch']\n",
    "    best_val_acc = checkpoint['best_val_seg_acc']\n",
    "    train_loss_history = checkpoint['train_loss_hist']\n",
    "    val_seg_acc_history = checkpoint['val_seg_acc_hist']\n",
    "    train_seg_acc_history = checkpoint['train_seg_acc_hist']\n",
    "    train_depth_loss_history = checkpoint['train_depth_loss_hist']\n",
    "    train_depth_rmse_history = checkpoint['train_depth_rmse_hist']        \n",
    "    train_depth_log_history = checkpoint['train_depth_log_hist']\n",
    "    val_depth_rmse_history = checkpoint['val_depth_rmse_hist']        \n",
    "    val_depth_log_history = checkpoint['val_depth_log_hist']\n",
    "    \n",
    "    print(train_depth_rmse_history)\n",
    "    \n",
    "    if use_class:\n",
    "        train_seg_loss_history = checkpoint['train_seg_loss_hist']\n",
    "        train_class_loss_history = checkpoint['train_class_loss_hist']\n",
    "        train_class_acc_history = checkpoint['train_class_acc_hist']\n",
    "        val_class_acc_history = checkpoint['val_class_acc_hist']\n",
    "        loss_plot_num = 3\n",
    "else:   \n",
    "    raise FileNotFoundError('No checkpoint found at {}'.format(model_path))\n",
    "\n",
    "plt.subplot(loss_plot_num, 1, 1)\n",
    "plt.plot(train_loss_history, '-o')\n",
    "plt.plot(train_depth_loss_history, '-+')\n",
    "plt.plot(train_depth_rmse_history, '-x')\n",
    "plt.plot(val_depth_rmse_history, '-x')\n",
    "plt.plot(train_depth_log_history, '-v')\n",
    "plt.plot(val_depth_log_history, '-v')\n",
    "\n",
    "if use_class:    \n",
    "    plt.plot(train_seg_loss_history, 'o')\n",
    "#     plt.plot(train_class_loss_history, 'o')\n",
    "    plt.legend(['glob_loss', 'seg_loss', 'class_loss'], loc='upper left')\n",
    "else:\n",
    "    plt.legend(['glob_loss',  'depth_loss', 'rmse_train', 'rmse_val', 'log_train', 'log_val'], loc='upper left')\n",
    "    \n",
    "plt.xlabel('epoch')\n",
    "plt.ylabel('loss')\n",
    "plt.show()\n",
    "\n",
    "print('Minimum loss values achieved during training:')\n",
    "print('Global: %.3f at epoch: %i' % (np.min(train_loss_history), np.argmin(train_loss_history)))\n",
    "if use_class:\n",
    "    print('Segmentation: %.3f at epoch: %i' % (np.min(train_seg_loss_history), np.argmin(train_seg_loss_history)))\n",
    "    print('Classification: %.3f at epoch: %i \\n' % (np.min(train_class_loss_history), np.argmin(train_class_loss_history)))\n",
    "\n",
    "plt.subplot(3, 1, 2)\n",
    "plt.plot(train_seg_acc_history, '-o')\n",
    "plt.plot(val_seg_acc_history, '-o')\n",
    "\n",
    "\n",
    "plt.legend(['seg_train', 'seg_val'], loc='upper left')\n",
    "plt.xlabel('epoch')\n",
    "plt.ylabel('accuracy')\n",
    "plt.show()\n",
    "\n",
    "# Not used for SUNRGBD dataset\n",
    "if use_class:\n",
    "    plt.subplot(3, 1, 3)\n",
    "    plt.plot(train_class_acc_history, '-o')\n",
    "    plt.plot(val_class_acc_history, '-o')\n",
    "    plt.legend(['train', 'val'], loc='upper left')\n",
    "    plt.xlabel('epoch')\n",
    "    plt.ylabel('class. accuracy')\n",
    "    plt.show()\n",
    "\n",
    "print('Best accuracy values achieved during training (on validation set):')\n",
    "print('Global pixel-wise classification: %.3f achieved on epoch: %i' % (np.max(val_seg_acc_history), np.argmax(val_seg_acc_history)))\n",
    "if use_class:\n",
    "    print('Global scene classification: %.3f achieved on epoch: %i' % (np.max(val_class_acc_history), np.argmax(val_class_acc_history)))"
   ]
  },
  {
   "cell_type": "code",
   "execution_count": null,
   "metadata": {},
   "outputs": [],
   "source": []
  },
  {
   "cell_type": "code",
   "execution_count": null,
   "metadata": {},
   "outputs": [],
   "source": []
  },
  {
   "cell_type": "code",
   "execution_count": null,
   "metadata": {},
   "outputs": [],
   "source": []
  },
  {
   "cell_type": "code",
   "execution_count": null,
   "metadata": {},
   "outputs": [],
   "source": []
  },
  {
   "cell_type": "code",
   "execution_count": null,
   "metadata": {},
   "outputs": [],
   "source": []
  },
  {
   "cell_type": "code",
   "execution_count": null,
   "metadata": {},
   "outputs": [],
   "source": []
  }
 ],
 "metadata": {
  "kernelspec": {
   "display_name": "Python 3",
   "language": "python",
   "name": "python3"
  },
  "language_info": {
   "codemirror_mode": {
    "name": "ipython",
    "version": 3
   },
   "file_extension": ".py",
   "mimetype": "text/x-python",
   "name": "python",
   "nbconvert_exporter": "python",
   "pygments_lexer": "ipython3",
   "version": "3.6.9"
  }
 },
 "nbformat": 4,
 "nbformat_minor": 1
}
